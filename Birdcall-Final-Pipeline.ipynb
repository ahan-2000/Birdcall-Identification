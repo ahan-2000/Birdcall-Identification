{
 "cells": [
  {
   "cell_type": "markdown",
   "metadata": {},
   "source": [
    "### <center> Cornell Birdcall Identification </center>\n",
    "\n",
    "## 1. Business Problem:-\n",
    "### 1.1 Description \n",
    "\n",
    "Do you hear the birds chirping outside your window? Over 10,000 bird species occur in the world, and they can be found in nearly every environment, from untouched rainforests to suburbs and even cities. Birds play an essential role in nature. They are high up in the food chain and integrate changes occurring at lower levels. As such, birds are excellent indicators of deteriorating habitat quality and environmental pollution. However, it is often easier to hear birds than see them. With proper sound detection and classification, researchers could automatically intuit factors about an area’s quality of life based on a changing bird population.\n",
    "\n",
    "There are already many projects underway to extensively monitor birds by continuously recording natural soundscapes over long periods. However, as many living and nonliving things make noise, the analysis of these datasets is often done manually by domain experts. These analyses are painstakingly slow, and results are often incomplete. Data science may be able to assist, so researchers have turned to large crowdsourced databases of focal recordings of birds to train AI models. Unfortunately, there is a domain mismatch between the training data (short recording of individual birds) and the soundscape recordings (long recordings with often multiple species calling at the same time) used in monitoring applications. This is one of the reasons why the performance of the currently used AI models has been subpar.\n",
    "<img src=\"https://storage.googleapis.com/kaggle-media/competitions/Birdsong/Bewick's%20Wren%20%C2%A9%20Derek%20Hameister%20_%20Macaulay%20Library%20at%20the%20Cornell%20Lab%20of%20Ornithology%20ML214764391.png\" />\n",
    "\n",
    "To unlock the full potential of these extensive and information-rich sound archives, researchers need good machine listeners to reliably extract as much information as possible to aid data-driven conservation.\n",
    "\n",
    "The Cornell Lab of Ornithology’s Center for Conservation Bioacoustics (CCB)’s mission is to collect and interpret sounds in nature. The CCB develops innovative conservation technologies to inspire and inform the conservation of wildlife and habitats globally. By partnering with the data science community, the CCB hopes to further its mission and improve the accuracy of soundscape analyses.\n",
    "\n",
    "In this case study, we will identify a wide variety of bird vocalizations in soundscape recordings. Due to the complexity of the recordings, they contain weak labels. There might be anthropogenic sounds (e.g., airplane overflights) or other bird and non-bird (e.g., chipmunk) calls in the background, with a particular labeled bird species in the foreground. we will try to bring new ideas to build effective detectors and classifiers for analyzing complex soundscape recordings!\n",
    "\n",
    "CREDITS:- Kaggle\n",
    "\n",
    "### 1.2 Problem Statement \n",
    "For each time window, we need to predict the bird species that made a call beginning or ending in that time window. If there are no bird calls in a time window, we will predict nocall."
   ]
  },
  {
   "cell_type": "markdown",
   "metadata": {},
   "source": [
    "### 2. Model-Prediction"
   ]
  },
  {
   "cell_type": "code",
   "execution_count": 71,
   "metadata": {},
   "outputs": [],
   "source": [
    "# importing important libraries\n",
    "import tensorflow as tf\n",
    "from tensorflow.keras.models import load_model\n",
    "from tensorflow.keras.utils import to_categorical\n",
    "import pickle\n",
    "from sklearn.metrics import f1_score, accuracy_score\n",
    "import tensorflow_addons as tfa\n",
    "import librosa\n",
    "from tqdm import tqdm\n",
    "import warnings\n",
    "warnings.filterwarnings(\"ignore\")\n",
    "import pandas as pd\n",
    "import numpy as np\n",
    "import random\n",
    "from IPython.display import Audio\n",
    "from pydub import AudioSegment\n",
    "import pickle\n",
    "import cv2\n",
    "import logging\n",
    "import os\n",
    "\n",
    "# supressing unwanted tesorflow messages\n",
    "os.environ['TF_CPP_MIN_LOG_LEVEL'] = '3'  # FATAL\n",
    "logging.getLogger('tensorflow').setLevel(logging.FATAL)"
   ]
  },
  {
   "cell_type": "code",
   "execution_count": 2,
   "metadata": {},
   "outputs": [
    {
     "data": {
      "text/html": [
       "<div>\n",
       "<style scoped>\n",
       "    .dataframe tbody tr th:only-of-type {\n",
       "        vertical-align: middle;\n",
       "    }\n",
       "\n",
       "    .dataframe tbody tr th {\n",
       "        vertical-align: top;\n",
       "    }\n",
       "\n",
       "    .dataframe thead th {\n",
       "        text-align: right;\n",
       "    }\n",
       "</style>\n",
       "<table border=\"1\" class=\"dataframe\">\n",
       "  <thead>\n",
       "    <tr style=\"text-align: right;\">\n",
       "      <th></th>\n",
       "      <th>filename</th>\n",
       "      <th>filepath</th>\n",
       "      <th>duration</th>\n",
       "      <th>sampling_rate</th>\n",
       "      <th>ebird_code</th>\n",
       "    </tr>\n",
       "  </thead>\n",
       "  <tbody>\n",
       "    <tr>\n",
       "      <th>20567</th>\n",
       "      <td>XC453756.mp3</td>\n",
       "      <td>train_audio/wooduc/XC453756.mp3</td>\n",
       "      <td>4</td>\n",
       "      <td>48000 (Hz)</td>\n",
       "      <td>wooduc</td>\n",
       "    </tr>\n",
       "    <tr>\n",
       "      <th>8951</th>\n",
       "      <td>XC481153.mp3</td>\n",
       "      <td>train_audio/gocspa/XC481153.mp3</td>\n",
       "      <td>15</td>\n",
       "      <td>44100 (Hz)</td>\n",
       "      <td>gocspa</td>\n",
       "    </tr>\n",
       "  </tbody>\n",
       "</table>\n",
       "</div>"
      ],
      "text/plain": [
       "           filename                         filepath  duration sampling_rate  \\\n",
       "20567  XC453756.mp3  train_audio/wooduc/XC453756.mp3         4    48000 (Hz)   \n",
       "8951   XC481153.mp3  train_audio/gocspa/XC481153.mp3        15    44100 (Hz)   \n",
       "\n",
       "      ebird_code  \n",
       "20567     wooduc  \n",
       "8951      gocspa  "
      ]
     },
     "execution_count": 2,
     "metadata": {},
     "output_type": "execute_result"
    }
   ],
   "source": [
    "# loading the test data set\n",
    "data,label = pickle.load(open('model_logs/test_data.pkl','rb'))\n",
    "# checking some rows of data set\n",
    "data.head(2)"
   ]
  },
  {
   "cell_type": "code",
   "execution_count": 3,
   "metadata": {},
   "outputs": [
    {
     "data": {
      "text/plain": [
       "59    aldfly\n",
       "24    aldfly\n",
       "Name: ebird_code, dtype: object"
      ]
     },
     "execution_count": 3,
     "metadata": {},
     "output_type": "execute_result"
    }
   ],
   "source": [
    "label[label=='aldfly'].head(2)"
   ]
  },
  {
   "cell_type": "code",
   "execution_count": 4,
   "metadata": {},
   "outputs": [],
   "source": [
    "# Defining the parameters and setting seed values\n",
    "seed = 45\n",
    "random.seed(seed)\n",
    "os.environ[\"PYTHONHASHSEED\"] = str(seed)\n",
    "np.random.seed(seed)\n",
    "tf.random.set_seed(seed)\n",
    "\n",
    "NUM_CLASSES = 264 \n",
    "# CLASSES = list(df_audio['ebird_code'].unique())\n",
    "# TARGETS = np.eye(NUM_CLASSES)\n",
    "\n",
    "class params:\n",
    "    sr = 32000\n",
    "#     sr = 22500\n",
    "    duration = 5\n",
    "    img_size = None\n",
    "\n",
    "    # Melspectrogram\n",
    "    n_mels = 128\n",
    "    fmin = 20\n",
    "    fmax = 16000\n",
    "    \n",
    "    n_fft = n_mels * 20 # Size of fft window - smooths the spectrogram\n",
    "    \n",
    "    spec_width = 256\n",
    "    hop_length = duration * sr // spec_width + 1   # Computed to have width=spec_width"
   ]
  },
  {
   "cell_type": "code",
   "execution_count": 5,
   "metadata": {},
   "outputs": [],
   "source": [
    "# Code from https://www.kaggle.com/daisukelab/creating-fat2019-preprocessed-data\n",
    "\n",
    "def mono_to_color(X, eps=1e-6, mean=None, std=None):\n",
    "    \"\"\"\n",
    "    Converts a one channel array to a 3 channel one in [0, 255]\n",
    "    Arguments:\n",
    "        X {numpy array [H x W]} -- 2D array to convert\n",
    "    Keyword Arguments:\n",
    "        eps {float} -- To avoid dividing by 0 (default: {1e-6})\n",
    "        mean {None or np array} -- Mean for normalization (default: {None})\n",
    "        std {None or np array} -- Std for normalization (default: {None})\n",
    "    Returns:\n",
    "        numpy array [3 x H x W] -- RGB numpy array\n",
    "    \"\"\"\n",
    "    X = np.stack([X, X, X], axis=-1)\n",
    "\n",
    "    # Standardize\n",
    "    mean = mean or X.mean()\n",
    "    std = std or X.std()\n",
    "    X = (X - mean) / (std + eps)\n",
    "\n",
    "    # Normalize to [0, 255]\n",
    "    _min, _max = X.min(), X.max()\n",
    "\n",
    "    if (_max - _min) > eps:\n",
    "        V = np.clip(X, _min, _max)\n",
    "        V = 255 * (V - _min) / (_max - _min)\n",
    "        V = V.astype(np.uint8)\n",
    "    else:\n",
    "        V = np.zeros_like(X, dtype=np.uint8)\n",
    "\n",
    "    return V\n",
    "\n",
    "\n",
    "def normalize(image, mean=None, std=None):\n",
    "    \"\"\"\n",
    "    Normalizes an array in [0, 255] to the format adapted to neural network\n",
    "    Arguments:\n",
    "        image {np array [3 x H x W]} -- [description]\n",
    "    Keyword Arguments:\n",
    "        mean {None or np array} -- Mean for normalization, expected of size 3 (default: {None})\n",
    "        std {None or np array} -- Std for normalization, expected of size 3 (default: {None})\n",
    "    Returns:\n",
    "        np array [H x W x 3] -- Normalized array\n",
    "    \"\"\"\n",
    "    image = image / 255.0\n",
    "    if mean is not None and std is not None:\n",
    "        image = (image - mean) / std\n",
    "    return image.astype(np.float32) # np.moveaxis(image, 2, 0).astype(np.float32)\n",
    "\n",
    "\n",
    "def crop_or_pad(y, length, sr, train=False, probs=None):\n",
    "    \"\"\"\n",
    "    Crops an array to a chosen length\n",
    "    Arguments:\n",
    "        y {1D np array} -- Array to crop\n",
    "        length {int} -- Length of the crop\n",
    "        sr {int} -- Sampling rate\n",
    "    Keyword Arguments:\n",
    "        train {bool} -- Whether we are at train time. If so, crop randomly, else return the beginning of y (default: {True})\n",
    "        probs {None or numpy array} -- Probabilities to use to chose where to crop (default: {None})\n",
    "    Returns:\n",
    "        1D np array -- Cropped array\n",
    "    \"\"\"\n",
    "    if len(y) <= length:\n",
    "        y = np.concatenate([y, np.zeros(length - len(y))])\n",
    "    else:\n",
    "        if not train:\n",
    "            start = 0\n",
    "        elif probs is None:\n",
    "            start = np.random.randint(len(y) - length)\n",
    "        else:\n",
    "            start = (\n",
    "                np.random.choice(np.arange(len(probs)), p=probs) + np.random.random()\n",
    "            )\n",
    "            start = int(sr * (start))\n",
    "\n",
    "        y = y[start : start + length]\n",
    "\n",
    "    return y.astype(np.float32)"
   ]
  },
  {
   "cell_type": "code",
   "execution_count": 6,
   "metadata": {},
   "outputs": [],
   "source": [
    "# http://man.hubwiz.com/docset/LibROSA.docset/Contents/Resources/Documents/generated/librosa.feature.melspectrogram.html\n",
    "\n",
    "def compute_melspec(y, params):\n",
    "    \"\"\"\n",
    "    Computes a mel-spectrogram and puts it at decibel scale\n",
    "    Arguments:\n",
    "        y {np array} -- signal\n",
    "        params {AudioParams} -- Parameters to use for the spectrogram. Expected to have the attributes sr, n_mels, f_min, f_max\n",
    "    Returns:\n",
    "        np array -- Mel-spectrogram\n",
    "    \"\"\"\n",
    "    melspec = librosa.feature.melspectrogram(y, sr=params.sr, n_mels=params.n_mels, hop_length=params.hop_length,\n",
    "                                             fmin=params.fmin, fmax=params.fmax)\n",
    "    melspec = librosa.power_to_db(melspec).astype(np.float32)\n",
    "    \n",
    "    return melspec\n",
    "\n",
    "\n",
    "def compute_spectrogram(y, params):\n",
    "    \"\"\"\n",
    "    Computes a spectrogram and puts it at decibel scale\n",
    "    Arguments:\n",
    "        y {np array} -- signal\n",
    "        params {AudioParams} -- Parameters to use for the spectrogram. Expected to have the attributes sr, n_mels, f_min, f_max\n",
    "    Returns:\n",
    "        np array -- Mel-spectrogram\n",
    "    \"\"\"\n",
    "    X = np.abs(librosa.stft(y, n_fft=1024, hop_length=params.hop_length))\n",
    "    spect = librosa.amplitude_to_db(X).astype(np.float32)\n",
    "\n",
    "    return spect"
   ]
  },
  {
   "cell_type": "code",
   "execution_count": 7,
   "metadata": {},
   "outputs": [],
   "source": [
    "# Referred from the AppliedAI Assignments\n",
    "\n",
    "class MelSpecDataset:\n",
    "    \"\"\"\n",
    "    Tensor dataset\n",
    "    \"\"\"\n",
    "\n",
    "    def __init__(self, df, params, train=False):\n",
    "        \"\"\"\n",
    "        Constructor\n",
    "        Arguments:\n",
    "            df {pandas dataframe} -- Metadata\n",
    "            params {AudioParams} -- Audio parameters\n",
    "        Keyword Arguments:\n",
    "            train {bool} -- Whether the dataset is used for training or validation (default: {True})\n",
    "            use_conf {bool} -- Whether to use confidence for cropping (default: {False})\n",
    "        \"\"\"\n",
    "        self.train = train\n",
    "        self.params = params\n",
    "        self.paths = df[\"filepath\"].values\n",
    "        self.sample_len = params.duration * params.sr\n",
    "        \n",
    "    def __len__(self):\n",
    "        return len(self.paths)\n",
    "\n",
    "    def __getitem__(self, idx):\n",
    "#         y, sr = soundfile.read(self.paths[idx])\n",
    "        try:\n",
    "            samples, sample_rate = librosa.load(self.paths[idx],sr=self.params.sr)\n",
    "        except:\n",
    "            sound = AudioSegment.from_file(self.paths[idx])\n",
    "            samples = sound.get_array_of_samples()\n",
    "            new_sound = sound._spawn(samples)\n",
    "            samples = np.array(samples).astype(np.float32)\n",
    "        \n",
    "\n",
    "        samples = crop_or_pad(samples, self.sample_len, sr=self.params.sr, train=self.train, probs=None)\n",
    "        melspec = compute_melspec(samples, self.params)\n",
    "#         melspec = compute_spectrogram(samples, self.params)\n",
    "\n",
    "        image = mono_to_color(melspec)\n",
    "        image = normalize(image, mean=None, std=None)\n",
    "        image = cv2.resize(image, (224, 224))\n",
    "#         image = cv2.resize(image, (299, 299))\n",
    "\n",
    "        return image\n",
    "\n",
    "\n",
    "class Dataloader(tf.keras.utils.Sequence):    \n",
    "    def __init__(self, dataset, batch_size=1, shuffle=False):\n",
    "        self.dataset = dataset\n",
    "        self.batch_size = batch_size\n",
    "        self.shuffle = shuffle\n",
    "        self.indexes = np.arange(len(dataset))\n",
    "\n",
    "    def __getitem__(self, i):\n",
    "        \n",
    "        # collect batch data\n",
    "        start = i * self.batch_size\n",
    "        stop = (i + 1) * self.batch_size\n",
    "        data = []\n",
    "        for j in range(start, stop):\n",
    "            data.append(self.dataset[j])\n",
    "        \n",
    "        data = np.asarray(data)\n",
    "        \n",
    "        return data # tuple(batch)\n",
    "    \n",
    "    def __len__(self):\n",
    "        return len(self.indexes) // self.batch_size\n",
    "    \n",
    "    def on_epoch_end(self):\n",
    "        if self.shuffle:\n",
    "            self.indexes = np.random.permutation(self.indexes)"
   ]
  },
  {
   "cell_type": "code",
   "execution_count": 8,
   "metadata": {},
   "outputs": [],
   "source": [
    "def Prediction(dataset):\n",
    "    \"\"\"\n",
    "    Function to make prediction for the feature vector/vectors\n",
    "    Argument: Series of filepaths\n",
    "    Returns tuple of predicted class probabilities, predicted class and preedicted bird species\n",
    "    \"\"\"\n",
    "    \n",
    "    # processing the feature vector\n",
    "    d = MelSpecDataset(data,params)\n",
    "    image = Dataloader(d,batch_size=len(dataset))[0]\n",
    "    \n",
    "    # Loading the Best models\n",
    "#     best_model = load_model('model_logs/model_vgg2.h5')\n",
    "    best_model = load_model('model_logs/res_vgg.h5')\n",
    "    \n",
    "    # making predictions\n",
    "#     y_predicted = best_model.predict(image)\n",
    "    y_predicted = best_model.predict([image,image])\n",
    "    \n",
    "    bird_species_mapping, ebird_code_labeled, ebird_code_classes = pickle.load(open('model_logs/bird_species_code.pkl','rb'))\n",
    "    y_pred = []\n",
    "    pred_bird = []\n",
    "    for p in np.greater(y_predicted,0.004).astype(int):\n",
    "        y_pr = np.nonzero(p)\n",
    "        predicted_bird = ' '.join([ebird_code_classes[i] for i in y_pr[0]])\n",
    "        y_pred.append(y_pr)\n",
    "        pred_bird.append(predicted_bird)\n",
    "        \n",
    "        \n",
    "#     y_pred = np.argmax(y_predicted,axis=1)\n",
    "#     pred_bird = ' '.join([ebird_code_classes[i] for i in y_pred])\n",
    "    \n",
    "    return y_predicted,y_pred,pred_bird"
   ]
  },
  {
   "cell_type": "code",
   "execution_count": 240,
   "metadata": {},
   "outputs": [],
   "source": [
    "def Evaluate(X,y):\n",
    "    \"\"\"\n",
    "    Function to evaluate the performance of the models\n",
    "    Argument: Series of filepaths and labels\n",
    "    Returns tuple of performance measeure and dataframe of good and bad prediction(s)\n",
    "    \"\"\"\n",
    "    \n",
    "    # proper labeling of the classes\n",
    "    y = y.apply(lambda x : ebird_code_labeled[x])\n",
    "    \n",
    "    # making predictions\n",
    "    y_prob,y_pred,_ = Prediction(X)\n",
    "    \n",
    "    \n",
    "    # computing performance metric\n",
    "#     score =  f1_score(y,y_pred,average='macro')\n",
    "#     loss = tf.keras.losses.sparse_categorical_crossentropy\n",
    "    loss = tf.keras.losses.BinaryCrossentropy()\n",
    "    pred_type = []\n",
    "    losses = []\n",
    "    score = 0\n",
    "    \n",
    "    for i in range(len(y_pred)):\n",
    "        y_true = np.zeros((1,264))\n",
    "        y_true[:,y.values[i]] = 1\n",
    "        \n",
    "        score += f1_score(y_true,y_pred[i],average='macro')\n",
    "        l = loss(y.values[i],y_prob[i])\n",
    "        \n",
    "        if l > 0.5:\n",
    "            pred_type.append('bad')\n",
    "        else:\n",
    "            pred_type.append('good')\n",
    "            \n",
    "        losses.append(l.numpy())\n",
    "       \n",
    "    score /= len(y)\n",
    "    binning = pd.DataFrame({'pred_class':y_pred, 'loss':losses, 'type':pred_type})\n",
    "    \n",
    "    return score,binning"
   ]
  },
  {
   "cell_type": "code",
   "execution_count": 55,
   "metadata": {},
   "outputs": [
    {
     "name": "stdout",
     "output_type": "stream",
     "text": [
      "The predicted bird is:  btnwar\n",
      "CPU times: user 3.85 s, sys: 788 ms, total: 4.64 s\n",
      "Wall time: 2.27 s\n"
     ]
    }
   ],
   "source": [
    "# let us do some prediction\n",
    "%%time\n",
    "bird_species_mapping, _ , _ = pickle.load(open('model_logs/bird_species_code.pkl','rb'))\n",
    "bird = Prediction(data.iloc[100:101])[2]\n",
    "print(\"The predicted bird is: \",.bird)"
   ]
  },
  {
   "cell_type": "code",
   "execution_count": 60,
   "metadata": {},
   "outputs": [
    {
     "name": "stdout",
     "output_type": "stream",
     "text": [
      "The predicted bird is:  wooduc amecro canwre fiscro plsvir\n",
      "CPU times: user 16.9 s, sys: 3.48 s, total: 20.3 s\n",
      "Wall time: 10.5 s\n"
     ]
    }
   ],
   "source": [
    "%%time\n",
    "print(\"The predicted bird is: \",Prediction(data.iloc[:5])[2])"
   ]
  },
  {
   "cell_type": "code",
   "execution_count": 70,
   "metadata": {},
   "outputs": [
    {
     "name": "stdout",
     "output_type": "stream",
     "text": [
      "The score is:  0.8046\n",
      "CPU times: user 37.6 s, sys: 5.2 s, total: 42.8 s\n",
      "Wall time: 31.4 s\n"
     ]
    }
   ],
   "source": [
    "%%time\n",
    "sc, bin_df = Evaluate(data.iloc[:10],label.iloc[:10])\n",
    "print(\"The score is: \",sc)"
   ]
  },
  {
   "cell_type": "code",
   "execution_count": 69,
   "metadata": {},
   "outputs": [
    {
     "name": "stdout",
     "output_type": "stream",
     "text": [
      "The score is:  0.7824\n",
      "CPU times: user 2min 33s, sys: 22.9 s, total: 2min 56s\n",
      "Wall time: 2min 9s\n"
     ]
    }
   ],
   "source": [
    "%%time\n",
    "sc1, bin_df1 = Evaluate(data.iloc[10:50],label.iloc[10:50])\n",
    "print(\"The score is: \",sc1)"
   ]
  },
  {
   "cell_type": "code",
   "execution_count": 73,
   "metadata": {},
   "outputs": [
    {
     "data": {
      "text/plain": [
       "Text(0.5, 0, 'Predicted class (Good if loss is below threshold)')"
      ]
     },
     "execution_count": 73,
     "metadata": {},
     "output_type": "execute_result"
    },
    {
     "data": {
      "image/png": "[encoded data removed]",
      "text/plain": [
       "<Figure size 432x288 with 1 Axes>"
      ]
     },
     "metadata": {},
     "output_type": "display_data"
    }
   ],
   "source": [
    "import seaborn as sns\n",
    "sns.set_style('darkgrid')\n",
    "ax = sns.countplot(x=\"type1\", data=bin_df)\n",
    "ax.set_title(\"Distribution of Predictions\")\n",
    "ax.set_xlabel(\"Predicted class (Good if loss is below threshold)\")"
   ]
  },
  {
   "cell_type": "code",
   "execution_count": 77,
   "metadata": {},
   "outputs": [
    {
     "data": {
      "text/plain": [
       "Text(0.5, 0, 'Predicted class (Good if loss is below threshold)')"
      ]
     },
     "execution_count": 77,
     "metadata": {},
     "output_type": "execute_result"
    },
    {
     "data": {
      "image/png": "[encoded data removed]",
      "text/plain": [
       "<Figure size 432x288 with 1 Axes>"
      ]
     },
     "metadata": {},
     "output_type": "display_data"
    }
   ],
   "source": [
    "ax = sns.countplot(x=\"type1\", data=bin_df3)\n",
    "ax.set_title(\"Distribution of Predictions\")\n",
    "ax.set_xlabel(\"Predicted class (Good if loss is below threshold)\")"
   ]
  },
  {
   "cell_type": "markdown",
   "metadata": {},
   "source": [
    "### 3. Summary:-\n",
    "Here, I created two main functions namely Prediction and Evaluate to make predictions on the incoming data and evaluate the model as the name suggests. I tried to create to pipeline which takes audio file as input process it and predict the call of the bird in that audio. The second function is used to evaluate the performance of the model and anlyze the good and bad predictions based on the predictions bin it generate. To generate the prediction bins we used the invidual loss function for the prediction and set a threshold, if the loss for that prediction is greater than the threshold we bin it as bad prediction while if it is in the limit we consider it as a good prediction. We use the loss we obtained while evaluation of our best model on the validation data set plus some small epsilon value to avoid the false positives as threshold value here.\n",
    "\n",
    "The above two plotted distributions shows the distribution of good and bad predictions we got when we evaluated our best model for some data. In first distribution, we observe quite well number of good predictions around 80% given we chose around 10 samples of data. In second distribution, we tried to evaluate on more samples of data and found that model is still doing well with around 79% of good predictions.\n",
    "\n",
    "While making the predictions and evaluations we calculated the running time to observe that running time of the model and observed that model is quite fast and providing output for single data sample within seconds."
   ]
  },
  {
   "cell_type": "code",
   "execution_count": null,
   "metadata": {},
   "outputs": [],
   "source": []
  }
 ],
 "metadata": {
  "kernelspec": {
   "display_name": "Python 3",
   "language": "python",
   "name": "python3"
  },
  "language_info": {
   "codemirror_mode": {
    "name": "ipython",
    "version": 3
   },
   "file_extension": ".py",
   "mimetype": "text/x-python",
   "name": "python",
   "nbconvert_exporter": "python",
   "pygments_lexer": "ipython3",
   "version": "3.7.8"
  }
 },
 "nbformat": 4,
 "nbformat_minor": 4
}
